{
  "nbformat": 4,
  "nbformat_minor": 0,
  "metadata": {
    "colab": {
      "name": "Image_classifier.ipynb",
      "provenance": [],
      "collapsed_sections": [],
      "authorship_tag": "ABX9TyMXD/D9JsmIqSwXt+ZTkL3s",
      "include_colab_link": true
    },
    "kernelspec": {
      "name": "python3",
      "display_name": "Python 3"
    },
    "language_info": {
      "name": "python"
    }
  },
  "cells": [
    {
      "cell_type": "markdown",
      "metadata": {
        "id": "view-in-github",
        "colab_type": "text"
      },
      "source": [
        "<a href=\"https://colab.research.google.com/github/MathurTarun06/Image_Classification/blob/main/Image_classifier.ipynb\" target=\"_parent\"><img src=\"https://colab.research.google.com/assets/colab-badge.svg\" alt=\"Open In Colab\"/></a>"
      ]
    },
    {
      "cell_type": "code",
      "metadata": {
        "id": "9qFXj4EQ12as"
      },
      "source": [
        "# !pip install ipython-autotime\n",
        "# %load_ext autotime  \n",
        "get_ipython().system('pip install ipython-autotime') \n",
        "get_ipython().magic('load_ext autotime')             #command to get the loading time for one specific cell"
      ],
      "execution_count": null,
      "outputs": []
    },
    {
      "cell_type": "code",
      "metadata": {
        "id": "UOqRP4VxrDXf"
      },
      "source": [
        "'''Datasets: There are four ways to get images to train the model.\n",
        "\t1.Download Manually\n",
        "\t2.Download datasets from kaggle\n",
        "\t3.Build a Image web crawler using programming.\n",
        "\t4.Use python libraries to scrape the images(using bing downloader)'''"
      ],
      "execution_count": null,
      "outputs": []
    },
    {
      "cell_type": "code",
      "metadata": {
        "colab": {
          "base_uri": "https://localhost:8080/"
        },
        "id": "dKl75aPbwQpl",
        "outputId": "a425539c-2cfc-4e07-f647-0082cffa6955"
      },
      "source": [
        "!pip install bing-image-downloader"
      ],
      "execution_count": 3,
      "outputs": [
        {
          "output_type": "stream",
          "text": [
            "Collecting bing-image-downloader\n",
            "  Downloading bing_image_downloader-1.1.1-py3-none-any.whl (5.7 kB)\n",
            "Installing collected packages: bing-image-downloader\n",
            "Successfully installed bing-image-downloader-1.1.1\n",
            "time: 3.54 s (started: 2021-07-31 12:52:36 +00:00)\n"
          ],
          "name": "stdout"
        }
      ]
    },
    {
      "cell_type": "code",
      "metadata": {
        "colab": {
          "base_uri": "https://localhost:8080/"
        },
        "id": "-ztRzoQLweuc",
        "outputId": "b7f7576d-40cd-4a9f-f0a0-af5abf0dd12c"
      },
      "source": [
        "!mkdir images   #mkdir is command to make directory"
      ],
      "execution_count": 4,
      "outputs": [
        {
          "output_type": "stream",
          "text": [
            "time: 116 ms (started: 2021-07-31 12:52:49 +00:00)\n"
          ],
          "name": "stdout"
        }
      ]
    },
    {
      "cell_type": "code",
      "metadata": {
        "id": "j2JMkVUnwucu"
      },
      "source": [
        "from bing_image_downloader import downloader\n",
        "downloader.download(\"rugby leather ball\",limit=30,output_dir='images',adult_filter_off=True)\n"
      ],
      "execution_count": null,
      "outputs": []
    },
    {
      "cell_type": "code",
      "metadata": {
        "id": "LmjCnLZdCPqX"
      },
      "source": [
        "!pip install scikit-image"
      ],
      "execution_count": null,
      "outputs": []
    },
    {
      "cell_type": "code",
      "metadata": {
        "id": "JbelTBbfDpV6"
      },
      "source": [
        "!pip install -U cython    #to make scikit work"
      ],
      "execution_count": null,
      "outputs": []
    },
    {
      "cell_type": "code",
      "metadata": {
        "colab": {
          "base_uri": "https://localhost:8080/"
        },
        "id": "trT-r1OHyIIp",
        "outputId": "63475fb1-2287-40d8-8a2c-fbb9e46acc9b"
      },
      "source": [
        " #Preprocessing\n",
        " #1.Resizing\n",
        " #2.Flattening\n",
        " \n",
        " import os\n",
        " import matplotlib.pyplot as plt\n",
        " import numpy as np\n",
        " from skimage.io import imread           #for reading images\n",
        " from skimage.transform import resize   # to make images of same pixel or dimension\n",
        "\n",
        " target = []      #output\n",
        " images = []      #input\n",
        " flat_data = []\n",
        "\n",
        " DATADIR = '/content/images'\n",
        " Categories = ['leather cricket ball','rugby leather ball','tennis ball' ]\n",
        "\n",
        "#joining all the categories into 1\n",
        " for category in Categories:\n",
        "   class_num = Categories.index(category)   #Label Encoding the values to make model understand categories easily\n",
        "   path = os.path.join(DATADIR,category)     #created path to use all the images\n",
        "   for image in os.listdir(path):    \n",
        "     image_list = imread(os.path.join(path,image))\n",
        "\n",
        "    #  print(image_list.shape)\n",
        "  #  plt.imshow(image_list)\n",
        "     image_resized = resize(image_list,(150,150,3))    #normalizes data from 0 to 1\n",
        "     flat_data.append(image_resized.flatten())\n",
        "     images.append(image_resized)\n",
        "     target.append(class_num)\n",
        "\n",
        " flat_data = np.array(flat_data)\n",
        " target = np.array(target)\n",
        " images = np.array(images)\n"
      ],
      "execution_count": 10,
      "outputs": [
        {
          "output_type": "stream",
          "text": [
            "time: 14.9 s (started: 2021-07-31 12:58:46 +00:00)\n"
          ],
          "name": "stdout"
        }
      ]
    },
    {
      "cell_type": "code",
      "metadata": {
        "colab": {
          "base_uri": "https://localhost:8080/"
        },
        "id": "T1zfsPAiItY0",
        "outputId": "c1468bb9-cbd7-4c67-b343-c4128f827134"
      },
      "source": [
        "len(flat_data[0])"
      ],
      "execution_count": 11,
      "outputs": [
        {
          "output_type": "execute_result",
          "data": {
            "text/plain": [
              "67500"
            ]
          },
          "metadata": {
            "tags": []
          },
          "execution_count": 11
        },
        {
          "output_type": "stream",
          "text": [
            "time: 10.6 ms (started: 2021-07-31 13:01:00 +00:00)\n"
          ],
          "name": "stdout"
        }
      ]
    },
    {
      "cell_type": "code",
      "metadata": {
        "colab": {
          "base_uri": "https://localhost:8080/"
        },
        "id": "AZC90FPIO-sU",
        "outputId": "198eebba-0541-4aa0-9a26-c7f783b50c6e"
      },
      "source": [
        "target"
      ],
      "execution_count": 12,
      "outputs": [
        {
          "output_type": "execute_result",
          "data": {
            "text/plain": [
              "array([0, 0, 0, 0, 0, 0, 0, 0, 0, 0, 0, 0, 0, 0, 0, 0, 0, 0, 0, 0, 0, 0,\n",
              "       0, 0, 0, 0, 0, 0, 0, 0, 1, 1, 1, 1, 1, 1, 1, 1, 1, 1, 1, 1, 1, 1,\n",
              "       1, 1, 1, 1, 1, 1, 1, 1, 1, 1, 1, 1, 1, 1, 1, 1, 2, 2, 2, 2, 2, 2,\n",
              "       2, 2, 2, 2, 2, 2, 2, 2, 2, 2, 2, 2, 2, 2, 2, 2, 2, 2, 2, 2, 2, 2,\n",
              "       2, 2])"
            ]
          },
          "metadata": {
            "tags": []
          },
          "execution_count": 12
        },
        {
          "output_type": "stream",
          "text": [
            "time: 4.21 ms (started: 2021-07-31 13:01:08 +00:00)\n"
          ],
          "name": "stdout"
        }
      ]
    },
    {
      "cell_type": "code",
      "metadata": {
        "colab": {
          "base_uri": "https://localhost:8080/",
          "height": 299
        },
        "id": "2jIb9aWIPDSI",
        "outputId": "143f93ea-b81b-4fba-94c0-293638aa9377"
      },
      "source": [
        "unique,count = np.unique(target,return_counts=True)\n",
        "plt.bar(Categories,count)"
      ],
      "execution_count": 13,
      "outputs": [
        {
          "output_type": "execute_result",
          "data": {
            "text/plain": [
              "<BarContainer object of 3 artists>"
            ]
          },
          "metadata": {
            "tags": []
          },
          "execution_count": 13
        },
        {
          "output_type": "display_data",
          "data": {
            "image/png": "[encoded data removed]",
            "text/plain": [
              "<Figure size 432x288 with 1 Axes>"
            ]
          },
          "metadata": {
            "tags": [],
            "needs_background": "light"
          }
        },
        {
          "output_type": "stream",
          "text": [
            "time: 205 ms (started: 2021-07-31 13:01:13 +00:00)\n"
          ],
          "name": "stdout"
        }
      ]
    },
    {
      "cell_type": "code",
      "metadata": {
        "id": "2b2O-wthQcTs"
      },
      "source": [
        "!pip install scikit-learn"
      ],
      "execution_count": null,
      "outputs": []
    },
    {
      "cell_type": "code",
      "metadata": {
        "colab": {
          "base_uri": "https://localhost:8080/"
        },
        "id": "ols8Jo--PUq0",
        "outputId": "67a93092-dee2-4eaf-ce65-1f58302e280a"
      },
      "source": [
        " #Splitting data\n",
        " from sklearn.model_selection import train_test_split\n",
        " x_train,x_test,y_train,y_test = train_test_split(flat_data,target,\n",
        "                                                  test_size = 0.3,random_state = 109) "
      ],
      "execution_count": 16,
      "outputs": [
        {
          "output_type": "stream",
          "text": [
            "time: 28.6 ms (started: 2021-07-31 13:01:46 +00:00)\n"
          ],
          "name": "stdout"
        }
      ]
    },
    {
      "cell_type": "code",
      "metadata": {
        "colab": {
          "base_uri": "https://localhost:8080/"
        },
        "id": "TYZT8zJQPzlS",
        "outputId": "139d4da0-430b-4d19-f55f-aaf62c0f2e50"
      },
      "source": [
        " from sklearn.model_selection import GridSearchCV   #Generates all the combinations of a hyperparameter grid\n",
        "                                                    #to find parameters used in support vectors are proper. SVM need hyper parameters which seperates bw both the categories\n",
        " from sklearn import svm\n",
        "\n",
        " param_grid = [\n",
        "               {'C':[1,10,100,1000],'kernel':['linear']},\n",
        "               {'C':[1,10,100,1000],'gamma':[0.001,0.0001],'kernel':['rbf']},\n",
        " ]\n",
        "\n",
        " svc = svm.SVC(probability = True)\n",
        " clf = GridSearchCV(svc,param_grid)\n",
        " clf.fit(x_train,y_train)"
      ],
      "execution_count": 17,
      "outputs": [
        {
          "output_type": "execute_result",
          "data": {
            "text/plain": [
              "GridSearchCV(cv=None, error_score=nan,\n",
              "             estimator=SVC(C=1.0, break_ties=False, cache_size=200,\n",
              "                           class_weight=None, coef0=0.0,\n",
              "                           decision_function_shape='ovr', degree=3,\n",
              "                           gamma='scale', kernel='rbf', max_iter=-1,\n",
              "                           probability=True, random_state=None, shrinking=True,\n",
              "                           tol=0.001, verbose=False),\n",
              "             iid='deprecated', n_jobs=None,\n",
              "             param_grid=[{'C': [1, 10, 100, 1000], 'kernel': ['linear']},\n",
              "                         {'C': [1, 10, 100, 1000], 'gamma': [0.001, 0.0001],\n",
              "                          'kernel': ['rbf']}],\n",
              "             pre_dispatch='2*n_jobs', refit=True, return_train_score=False,\n",
              "             scoring=None, verbose=0)"
            ]
          },
          "metadata": {
            "tags": []
          },
          "execution_count": 17
        },
        {
          "output_type": "stream",
          "text": [
            "time: 2min 6s (started: 2021-07-31 13:01:51 +00:00)\n"
          ],
          "name": "stdout"
        }
      ]
    },
    {
      "cell_type": "code",
      "metadata": {
        "colab": {
          "base_uri": "https://localhost:8080/"
        },
        "id": "GwOwukpuZ-BW",
        "outputId": "1c023ae1-a18c-47a8-c813-e45e30b984f5"
      },
      "source": [
        "y_pred = clf.predict(x_test)\n",
        "y_pred"
      ],
      "execution_count": 18,
      "outputs": [
        {
          "output_type": "execute_result",
          "data": {
            "text/plain": [
              "array([1, 0, 2, 2, 2, 1, 0, 2, 1, 0, 1, 1, 1, 1, 2, 1, 2, 1, 0, 1, 2, 2,\n",
              "       2, 0, 0, 0, 2])"
            ]
          },
          "metadata": {
            "tags": []
          },
          "execution_count": 18
        },
        {
          "output_type": "stream",
          "text": [
            "time: 197 ms (started: 2021-07-31 13:04:19 +00:00)\n"
          ],
          "name": "stdout"
        }
      ]
    },
    {
      "cell_type": "code",
      "metadata": {
        "colab": {
          "base_uri": "https://localhost:8080/"
        },
        "id": "Qk8oPXL1aJIt",
        "outputId": "e22d959e-ef39-442f-bb43-6a5d11a1b7dd"
      },
      "source": [
        "y_test"
      ],
      "execution_count": 19,
      "outputs": [
        {
          "output_type": "execute_result",
          "data": {
            "text/plain": [
              "array([1, 0, 1, 2, 2, 1, 0, 1, 1, 0, 1, 0, 1, 2, 2, 1, 2, 1, 0, 1, 2, 2,\n",
              "       2, 0, 0, 0, 1])"
            ]
          },
          "metadata": {
            "tags": []
          },
          "execution_count": 19
        },
        {
          "output_type": "stream",
          "text": [
            "time: 8.16 ms (started: 2021-07-31 13:04:24 +00:00)\n"
          ],
          "name": "stdout"
        }
      ]
    },
    {
      "cell_type": "code",
      "metadata": {
        "id": "qL92HFYFasCW"
      },
      "source": [
        "!pip install -U scikit-learn"
      ],
      "execution_count": null,
      "outputs": []
    },
    {
      "cell_type": "code",
      "metadata": {
        "colab": {
          "base_uri": "https://localhost:8080/"
        },
        "id": "t9VQozuzaUvf",
        "outputId": "ba98d380-c4ae-424f-a2f4-09db74112190"
      },
      "source": [
        "from sklearn.metrics import accuracy_score\n",
        "from sklearn.metrics import confusion_matrix"
      ],
      "execution_count": 20,
      "outputs": [
        {
          "output_type": "stream",
          "text": [
            "time: 1.73 ms (started: 2021-07-31 13:04:44 +00:00)\n"
          ],
          "name": "stdout"
        }
      ]
    },
    {
      "cell_type": "code",
      "metadata": {
        "colab": {
          "base_uri": "https://localhost:8080/"
        },
        "id": "mV5hkBwPaUht",
        "outputId": "7b746397-3288-458c-e908-cca932d7e5a0"
      },
      "source": [
        "accuracy_score(y_pred,y_test)"
      ],
      "execution_count": 22,
      "outputs": [
        {
          "output_type": "execute_result",
          "data": {
            "text/plain": [
              "0.8148148148148148"
            ]
          },
          "metadata": {
            "tags": []
          },
          "execution_count": 22
        },
        {
          "output_type": "stream",
          "text": [
            "time: 5.55 ms (started: 2021-07-31 13:05:10 +00:00)\n"
          ],
          "name": "stdout"
        }
      ]
    },
    {
      "cell_type": "code",
      "metadata": {
        "colab": {
          "base_uri": "https://localhost:8080/"
        },
        "id": "xZwx62m9aUG-",
        "outputId": "ef8788ee-a7c3-4894-e21c-1b3c96eda939"
      },
      "source": [
        "confusion_matrix(y_pred,y_test)"
      ],
      "execution_count": 23,
      "outputs": [
        {
          "output_type": "execute_result",
          "data": {
            "text/plain": [
              "array([[7, 0, 0],\n",
              "       [1, 8, 1],\n",
              "       [0, 3, 7]])"
            ]
          },
          "metadata": {
            "tags": []
          },
          "execution_count": 23
        },
        {
          "output_type": "stream",
          "text": [
            "time: 9.26 ms (started: 2021-07-31 13:05:17 +00:00)\n"
          ],
          "name": "stdout"
        }
      ]
    },
    {
      "cell_type": "code",
      "metadata": {
        "colab": {
          "base_uri": "https://localhost:8080/"
        },
        "id": "f8h5SJ_FaTv6",
        "outputId": "d196bb29-80ba-43c9-b470-41ec881cf1db"
      },
      "source": [
        "# Save the model using Pickle library\n",
        "import pickle\n",
        "pickle.dump(clf,open('image_classification_model.p','wb')) #writing byte"
      ],
      "execution_count": 24,
      "outputs": [
        {
          "output_type": "stream",
          "text": [
            "time: 57 ms (started: 2021-07-31 13:05:28 +00:00)\n"
          ],
          "name": "stdout"
        }
      ]
    },
    {
      "cell_type": "code",
      "metadata": {
        "colab": {
          "base_uri": "https://localhost:8080/"
        },
        "id": "hOnDjAdzr4mq",
        "outputId": "4103444e-190a-49cc-c52b-74743fc104b2"
      },
      "source": [
        "\n",
        "model = pickle.load(open('image_classification_model.p','rb')) #reading byte"
      ],
      "execution_count": 25,
      "outputs": [
        {
          "output_type": "stream",
          "text": [
            "time: 39.4 ms (started: 2021-07-31 13:05:35 +00:00)\n"
          ],
          "name": "stdout"
        }
      ]
    },
    {
      "cell_type": "code",
      "metadata": {
        "colab": {
          "base_uri": "https://localhost:8080/",
          "height": 337
        },
        "id": "_lvB__VXtCSI",
        "outputId": "cc1c5c3d-ff33-4c8a-f84e-dc7525d2946d"
      },
      "source": [
        "# Testing a new image\n",
        "flat_data = []\n",
        "url = input('Enter your URL')\n",
        "image = imread(url)\n",
        "image_resized = resize(image,(150,150,3))\n",
        "flat_data.append(image_resized.flatten())\n",
        "flat_data = np.array(flat_data)\n",
        "print(image.shape)\n",
        "plt.imshow(image_resized)\n",
        "y_out = model.predict(flat_data)\n",
        "y_out = Categories[y_out[0]]\n",
        "print(f' Predicted Output: {y_out}')\n",
        "#https://upload.wikimedia.org/wikipedia/commons/c/c7/Roses_Boutons_FR_2012.jpg"
      ],
      "execution_count": 30,
      "outputs": [
        {
          "output_type": "stream",
          "text": [
            "Enter your URLhttps://5.imimg.com/data5/CQ/ML/MY-38181931/tennis-ball-500x500.jpg\n",
            "(500, 500, 3)\n",
            " Predicted Output: tennis ball\n"
          ],
          "name": "stdout"
        },
        {
          "output_type": "display_data",
          "data": {
            "image/png": "[encoded data removed]",
            "text/plain": [
              "<Figure size 432x288 with 1 Axes>"
            ]
          },
          "metadata": {
            "tags": [],
            "needs_background": "light"
          }
        },
        {
          "output_type": "stream",
          "text": [
            "time: 5.14 s (started: 2021-07-31 13:11:36 +00:00)\n"
          ],
          "name": "stdout"
        }
      ]
    },
    {
      "cell_type": "code",
      "metadata": {
        "id": "50gs4egqtCJu"
      },
      "source": [
        "!pip install streamlit\n",
        "\n",
        "!pip install pyngrok\n",
        "\n"
      ],
      "execution_count": null,
      "outputs": []
    },
    {
      "cell_type": "code",
      "metadata": {
        "colab": {
          "base_uri": "https://localhost:8080/"
        },
        "id": "pGApoNlCaYcC",
        "outputId": "f5824a31-442d-4fa8-c190-2aa440ded7e8"
      },
      "source": [
        "from pyngrok import ngrok"
      ],
      "execution_count": 74,
      "outputs": [
        {
          "output_type": "stream",
          "text": [
            "time: 1.14 ms (started: 2021-07-30 18:34:15 +00:00)\n"
          ],
          "name": "stdout"
        }
      ]
    },
    {
      "cell_type": "code",
      "metadata": {
        "colab": {
          "base_uri": "https://localhost:8080/"
        },
        "id": "P7pZAB3FyGhC",
        "outputId": "899c66b7-0988-4400-ff8c-575f89d6e727"
      },
      "source": [
        "%%writefile classifier_app.py\n",
        "import streamlit as st\n",
        "st.title('Image Classifier using Machine Learning') "
      ],
      "execution_count": 82,
      "outputs": [
        {
          "output_type": "stream",
          "text": [
            "Overwriting classifier_app.py\n",
            "time: 7.07 ms (started: 2021-07-30 20:06:39 +00:00)\n"
          ],
          "name": "stdout"
        }
      ]
    },
    {
      "cell_type": "code",
      "metadata": {
        "colab": {
          "base_uri": "https://localhost:8080/"
        },
        "id": "P31CvnHJzmzg",
        "outputId": "55774704-62b7-4794-a022-188d077276c3"
      },
      "source": [
        "# !nohup streamlit run classifier_app.py           #The major Problem\n",
        "# # !nohup streamlit run --server.port 80 classifier_app.py >/dev/null #nohup makes it run in background\n",
        "# url = ngrok.connect(port='80')\n",
        "# url\n",
        "\n"
      ],
      "execution_count": null,
      "outputs": [
        {
          "output_type": "stream",
          "text": [
            "nohup: ignoring input and appending output to 'nohup.out'\n"
          ],
          "name": "stdout"
        }
      ]
    }
  ]
}